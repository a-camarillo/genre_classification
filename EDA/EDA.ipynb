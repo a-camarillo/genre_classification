{
 "cells": [
  {
   "cell_type": "code",
   "execution_count": 2,
   "metadata": {},
   "outputs": [],
   "source": [
    "import pandas as pd\n",
    "import matplotlib.pyplot as plt\n",
    "import seaborn as sns\n",
    "import scipy.stats as stat\n",
    "import numpy as np"
   ]
  },
  {
   "cell_type": "code",
   "execution_count": 3,
   "metadata": {},
   "outputs": [
    {
     "data": {
      "text/html": [
       "<div>\n",
       "<style scoped>\n",
       "    .dataframe tbody tr th:only-of-type {\n",
       "        vertical-align: middle;\n",
       "    }\n",
       "\n",
       "    .dataframe tbody tr th {\n",
       "        vertical-align: top;\n",
       "    }\n",
       "\n",
       "    .dataframe thead th {\n",
       "        text-align: right;\n",
       "    }\n",
       "</style>\n",
       "<table border=\"1\" class=\"dataframe\">\n",
       "  <thead>\n",
       "    <tr style=\"text-align: right;\">\n",
       "      <th></th>\n",
       "      <th>genre</th>\n",
       "      <th>artist_name</th>\n",
       "      <th>track_name</th>\n",
       "      <th>track_id</th>\n",
       "      <th>popularity</th>\n",
       "      <th>acousticness</th>\n",
       "      <th>danceability</th>\n",
       "      <th>duration_ms</th>\n",
       "      <th>energy</th>\n",
       "      <th>instrumentalness</th>\n",
       "      <th>key</th>\n",
       "      <th>liveness</th>\n",
       "      <th>loudness</th>\n",
       "      <th>mode</th>\n",
       "      <th>speechiness</th>\n",
       "      <th>tempo</th>\n",
       "      <th>time_signature</th>\n",
       "      <th>valence</th>\n",
       "    </tr>\n",
       "  </thead>\n",
       "  <tbody>\n",
       "    <tr>\n",
       "      <th>0</th>\n",
       "      <td>Movie</td>\n",
       "      <td>Henri Salvador</td>\n",
       "      <td>C'est beau de faire un Show</td>\n",
       "      <td>0BRjO6ga9RKCKjfDqeFgWV</td>\n",
       "      <td>0</td>\n",
       "      <td>0.611</td>\n",
       "      <td>0.389</td>\n",
       "      <td>99373</td>\n",
       "      <td>0.910</td>\n",
       "      <td>0.000</td>\n",
       "      <td>C#</td>\n",
       "      <td>0.3460</td>\n",
       "      <td>-1.828</td>\n",
       "      <td>Major</td>\n",
       "      <td>0.0525</td>\n",
       "      <td>166.969</td>\n",
       "      <td>4/4</td>\n",
       "      <td>0.814</td>\n",
       "    </tr>\n",
       "    <tr>\n",
       "      <th>1</th>\n",
       "      <td>Movie</td>\n",
       "      <td>Martin &amp; les fées</td>\n",
       "      <td>Perdu d'avance (par Gad Elmaleh)</td>\n",
       "      <td>0BjC1NfoEOOusryehmNudP</td>\n",
       "      <td>1</td>\n",
       "      <td>0.246</td>\n",
       "      <td>0.590</td>\n",
       "      <td>137373</td>\n",
       "      <td>0.737</td>\n",
       "      <td>0.000</td>\n",
       "      <td>F#</td>\n",
       "      <td>0.1510</td>\n",
       "      <td>-5.559</td>\n",
       "      <td>Minor</td>\n",
       "      <td>0.0868</td>\n",
       "      <td>174.003</td>\n",
       "      <td>4/4</td>\n",
       "      <td>0.816</td>\n",
       "    </tr>\n",
       "    <tr>\n",
       "      <th>2</th>\n",
       "      <td>Movie</td>\n",
       "      <td>Joseph Williams</td>\n",
       "      <td>Don't Let Me Be Lonely Tonight</td>\n",
       "      <td>0CoSDzoNIKCRs124s9uTVy</td>\n",
       "      <td>3</td>\n",
       "      <td>0.952</td>\n",
       "      <td>0.663</td>\n",
       "      <td>170267</td>\n",
       "      <td>0.131</td>\n",
       "      <td>0.000</td>\n",
       "      <td>C</td>\n",
       "      <td>0.1030</td>\n",
       "      <td>-13.879</td>\n",
       "      <td>Minor</td>\n",
       "      <td>0.0362</td>\n",
       "      <td>99.488</td>\n",
       "      <td>5/4</td>\n",
       "      <td>0.368</td>\n",
       "    </tr>\n",
       "    <tr>\n",
       "      <th>3</th>\n",
       "      <td>Movie</td>\n",
       "      <td>Henri Salvador</td>\n",
       "      <td>Dis-moi Monsieur Gordon Cooper</td>\n",
       "      <td>0Gc6TVm52BwZD07Ki6tIvf</td>\n",
       "      <td>0</td>\n",
       "      <td>0.703</td>\n",
       "      <td>0.240</td>\n",
       "      <td>152427</td>\n",
       "      <td>0.326</td>\n",
       "      <td>0.000</td>\n",
       "      <td>C#</td>\n",
       "      <td>0.0985</td>\n",
       "      <td>-12.178</td>\n",
       "      <td>Major</td>\n",
       "      <td>0.0395</td>\n",
       "      <td>171.758</td>\n",
       "      <td>4/4</td>\n",
       "      <td>0.227</td>\n",
       "    </tr>\n",
       "    <tr>\n",
       "      <th>4</th>\n",
       "      <td>Movie</td>\n",
       "      <td>Fabien Nataf</td>\n",
       "      <td>Ouverture</td>\n",
       "      <td>0IuslXpMROHdEPvSl1fTQK</td>\n",
       "      <td>4</td>\n",
       "      <td>0.950</td>\n",
       "      <td>0.331</td>\n",
       "      <td>82625</td>\n",
       "      <td>0.225</td>\n",
       "      <td>0.123</td>\n",
       "      <td>F</td>\n",
       "      <td>0.2020</td>\n",
       "      <td>-21.150</td>\n",
       "      <td>Major</td>\n",
       "      <td>0.0456</td>\n",
       "      <td>140.576</td>\n",
       "      <td>4/4</td>\n",
       "      <td>0.390</td>\n",
       "    </tr>\n",
       "  </tbody>\n",
       "</table>\n",
       "</div>"
      ],
      "text/plain": [
       "   genre        artist_name                        track_name  \\\n",
       "0  Movie     Henri Salvador       C'est beau de faire un Show   \n",
       "1  Movie  Martin & les fées  Perdu d'avance (par Gad Elmaleh)   \n",
       "2  Movie    Joseph Williams    Don't Let Me Be Lonely Tonight   \n",
       "3  Movie     Henri Salvador    Dis-moi Monsieur Gordon Cooper   \n",
       "4  Movie       Fabien Nataf                         Ouverture   \n",
       "\n",
       "                 track_id  popularity  acousticness  danceability  \\\n",
       "0  0BRjO6ga9RKCKjfDqeFgWV           0         0.611         0.389   \n",
       "1  0BjC1NfoEOOusryehmNudP           1         0.246         0.590   \n",
       "2  0CoSDzoNIKCRs124s9uTVy           3         0.952         0.663   \n",
       "3  0Gc6TVm52BwZD07Ki6tIvf           0         0.703         0.240   \n",
       "4  0IuslXpMROHdEPvSl1fTQK           4         0.950         0.331   \n",
       "\n",
       "   duration_ms  energy  instrumentalness key  liveness  loudness   mode  \\\n",
       "0        99373   0.910             0.000  C#    0.3460    -1.828  Major   \n",
       "1       137373   0.737             0.000  F#    0.1510    -5.559  Minor   \n",
       "2       170267   0.131             0.000   C    0.1030   -13.879  Minor   \n",
       "3       152427   0.326             0.000  C#    0.0985   -12.178  Major   \n",
       "4        82625   0.225             0.123   F    0.2020   -21.150  Major   \n",
       "\n",
       "   speechiness    tempo time_signature  valence  \n",
       "0       0.0525  166.969            4/4    0.814  \n",
       "1       0.0868  174.003            4/4    0.816  \n",
       "2       0.0362   99.488            5/4    0.368  \n",
       "3       0.0395  171.758            4/4    0.227  \n",
       "4       0.0456  140.576            4/4    0.390  "
      ]
     },
     "execution_count": 3,
     "metadata": {},
     "output_type": "execute_result"
    }
   ],
   "source": [
    "data = pd.read_csv('SpotifyFeatures.csv')\n",
    "data.head()"
   ]
  },
  {
   "cell_type": "code",
   "execution_count": 4,
   "metadata": {},
   "outputs": [
    {
     "data": {
      "text/plain": [
       "genre               0\n",
       "artist_name         0\n",
       "track_name          0\n",
       "track_id            0\n",
       "popularity          0\n",
       "acousticness        0\n",
       "danceability        0\n",
       "duration_ms         0\n",
       "energy              0\n",
       "instrumentalness    0\n",
       "key                 0\n",
       "liveness            0\n",
       "loudness            0\n",
       "mode                0\n",
       "speechiness         0\n",
       "tempo               0\n",
       "time_signature      0\n",
       "valence             0\n",
       "dtype: int64"
      ]
     },
     "execution_count": 4,
     "metadata": {},
     "output_type": "execute_result"
    }
   ],
   "source": [
    "data.isnull().sum()"
   ]
  },
  {
   "cell_type": "code",
   "execution_count": 5,
   "metadata": {},
   "outputs": [
    {
     "name": "stdout",
     "output_type": "stream",
     "text": [
      "<class 'pandas.core.frame.DataFrame'>\n",
      "RangeIndex: 232725 entries, 0 to 232724\n",
      "Data columns (total 18 columns):\n",
      "genre               232725 non-null object\n",
      "artist_name         232725 non-null object\n",
      "track_name          232725 non-null object\n",
      "track_id            232725 non-null object\n",
      "popularity          232725 non-null int64\n",
      "acousticness        232725 non-null float64\n",
      "danceability        232725 non-null float64\n",
      "duration_ms         232725 non-null int64\n",
      "energy              232725 non-null float64\n",
      "instrumentalness    232725 non-null float64\n",
      "key                 232725 non-null object\n",
      "liveness            232725 non-null float64\n",
      "loudness            232725 non-null float64\n",
      "mode                232725 non-null object\n",
      "speechiness         232725 non-null float64\n",
      "tempo               232725 non-null float64\n",
      "time_signature      232725 non-null object\n",
      "valence             232725 non-null float64\n",
      "dtypes: float64(9), int64(2), object(7)\n",
      "memory usage: 32.0+ MB\n"
     ]
    }
   ],
   "source": [
    "data.info()"
   ]
  },
  {
   "cell_type": "code",
   "execution_count": 6,
   "metadata": {},
   "outputs": [
    {
     "data": {
      "text/plain": [
       "array(['Movie', 'R&B', 'A Capella', 'Alternative', 'Country', 'Dance',\n",
       "       'Electronic', 'Anime', 'Folk', 'Blues', 'Opera', 'Hip-Hop',\n",
       "       \"Children's Music\", 'Children’s Music', 'Rap', 'Indie',\n",
       "       'Classical', 'Pop', 'Reggae', 'Reggaeton', 'Jazz', 'Rock', 'Ska',\n",
       "       'Comedy', 'Soul', 'Soundtrack', 'World'], dtype=object)"
      ]
     },
     "execution_count": 6,
     "metadata": {},
     "output_type": "execute_result"
    }
   ],
   "source": [
    "data['genre'].unique()"
   ]
  },
  {
   "cell_type": "code",
   "execution_count": 7,
   "metadata": {},
   "outputs": [
    {
     "data": {
      "text/html": [
       "<div>\n",
       "<style scoped>\n",
       "    .dataframe tbody tr th:only-of-type {\n",
       "        vertical-align: middle;\n",
       "    }\n",
       "\n",
       "    .dataframe tbody tr th {\n",
       "        vertical-align: top;\n",
       "    }\n",
       "\n",
       "    .dataframe thead th {\n",
       "        text-align: right;\n",
       "    }\n",
       "</style>\n",
       "<table border=\"1\" class=\"dataframe\">\n",
       "  <thead>\n",
       "    <tr style=\"text-align: right;\">\n",
       "      <th></th>\n",
       "      <th>genre</th>\n",
       "      <th>artist_name</th>\n",
       "      <th>track_name</th>\n",
       "      <th>track_id</th>\n",
       "      <th>popularity</th>\n",
       "      <th>acousticness</th>\n",
       "      <th>danceability</th>\n",
       "      <th>duration_ms</th>\n",
       "      <th>energy</th>\n",
       "      <th>instrumentalness</th>\n",
       "      <th>key</th>\n",
       "      <th>liveness</th>\n",
       "      <th>loudness</th>\n",
       "      <th>mode</th>\n",
       "      <th>speechiness</th>\n",
       "      <th>tempo</th>\n",
       "      <th>time_signature</th>\n",
       "      <th>valence</th>\n",
       "    </tr>\n",
       "  </thead>\n",
       "  <tbody>\n",
       "    <tr>\n",
       "      <th>191939</th>\n",
       "      <td>Soul</td>\n",
       "      <td>John Legend</td>\n",
       "      <td>All of Me</td>\n",
       "      <td>3U4isOIWM3VvDubwSI3y7a</td>\n",
       "      <td>85</td>\n",
       "      <td>0.922</td>\n",
       "      <td>0.422</td>\n",
       "      <td>269560</td>\n",
       "      <td>0.264</td>\n",
       "      <td>0.000000</td>\n",
       "      <td>G#</td>\n",
       "      <td>0.1320</td>\n",
       "      <td>-7.064</td>\n",
       "      <td>Major</td>\n",
       "      <td>0.0322</td>\n",
       "      <td>119.930</td>\n",
       "      <td>4/4</td>\n",
       "      <td>0.331</td>\n",
       "    </tr>\n",
       "    <tr>\n",
       "      <th>191940</th>\n",
       "      <td>Soul</td>\n",
       "      <td>Marvin Gaye</td>\n",
       "      <td>Ain't No Mountain High Enough - Mono</td>\n",
       "      <td>76resiPGue5Cum9rLUKCj0</td>\n",
       "      <td>79</td>\n",
       "      <td>0.290</td>\n",
       "      <td>0.620</td>\n",
       "      <td>148093</td>\n",
       "      <td>0.813</td>\n",
       "      <td>0.000109</td>\n",
       "      <td>B</td>\n",
       "      <td>0.1430</td>\n",
       "      <td>-6.115</td>\n",
       "      <td>Minor</td>\n",
       "      <td>0.0307</td>\n",
       "      <td>129.380</td>\n",
       "      <td>4/4</td>\n",
       "      <td>0.832</td>\n",
       "    </tr>\n",
       "    <tr>\n",
       "      <th>191941</th>\n",
       "      <td>Soul</td>\n",
       "      <td>Adele</td>\n",
       "      <td>Someone Like You</td>\n",
       "      <td>4kflIGfjdZJW4ot2ioixTB</td>\n",
       "      <td>79</td>\n",
       "      <td>0.892</td>\n",
       "      <td>0.559</td>\n",
       "      <td>285040</td>\n",
       "      <td>0.330</td>\n",
       "      <td>0.000000</td>\n",
       "      <td>A</td>\n",
       "      <td>0.0975</td>\n",
       "      <td>-8.251</td>\n",
       "      <td>Major</td>\n",
       "      <td>0.0285</td>\n",
       "      <td>135.109</td>\n",
       "      <td>4/4</td>\n",
       "      <td>0.285</td>\n",
       "    </tr>\n",
       "    <tr>\n",
       "      <th>191942</th>\n",
       "      <td>Soul</td>\n",
       "      <td>The Temptations</td>\n",
       "      <td>My Girl</td>\n",
       "      <td>6jWkZvd1URGktyTTwcpPpB</td>\n",
       "      <td>79</td>\n",
       "      <td>0.625</td>\n",
       "      <td>0.579</td>\n",
       "      <td>165000</td>\n",
       "      <td>0.419</td>\n",
       "      <td>0.000000</td>\n",
       "      <td>C</td>\n",
       "      <td>0.0981</td>\n",
       "      <td>-10.720</td>\n",
       "      <td>Major</td>\n",
       "      <td>0.0346</td>\n",
       "      <td>104.564</td>\n",
       "      <td>4/4</td>\n",
       "      <td>0.673</td>\n",
       "    </tr>\n",
       "    <tr>\n",
       "      <th>191943</th>\n",
       "      <td>Soul</td>\n",
       "      <td>Estelle</td>\n",
       "      <td>American Boy</td>\n",
       "      <td>22UDw8rSfLbUsaAGTXQ4Z8</td>\n",
       "      <td>78</td>\n",
       "      <td>0.171</td>\n",
       "      <td>0.727</td>\n",
       "      <td>284733</td>\n",
       "      <td>0.729</td>\n",
       "      <td>0.000000</td>\n",
       "      <td>C</td>\n",
       "      <td>0.0700</td>\n",
       "      <td>-2.990</td>\n",
       "      <td>Major</td>\n",
       "      <td>0.3260</td>\n",
       "      <td>117.932</td>\n",
       "      <td>4/4</td>\n",
       "      <td>0.512</td>\n",
       "    </tr>\n",
       "  </tbody>\n",
       "</table>\n",
       "</div>"
      ],
      "text/plain": [
       "       genre      artist_name                            track_name  \\\n",
       "191939  Soul      John Legend                             All of Me   \n",
       "191940  Soul      Marvin Gaye  Ain't No Mountain High Enough - Mono   \n",
       "191941  Soul            Adele                      Someone Like You   \n",
       "191942  Soul  The Temptations                               My Girl   \n",
       "191943  Soul          Estelle                          American Boy   \n",
       "\n",
       "                      track_id  popularity  acousticness  danceability  \\\n",
       "191939  3U4isOIWM3VvDubwSI3y7a          85         0.922         0.422   \n",
       "191940  76resiPGue5Cum9rLUKCj0          79         0.290         0.620   \n",
       "191941  4kflIGfjdZJW4ot2ioixTB          79         0.892         0.559   \n",
       "191942  6jWkZvd1URGktyTTwcpPpB          79         0.625         0.579   \n",
       "191943  22UDw8rSfLbUsaAGTXQ4Z8          78         0.171         0.727   \n",
       "\n",
       "        duration_ms  energy  instrumentalness key  liveness  loudness   mode  \\\n",
       "191939       269560   0.264          0.000000  G#    0.1320    -7.064  Major   \n",
       "191940       148093   0.813          0.000109   B    0.1430    -6.115  Minor   \n",
       "191941       285040   0.330          0.000000   A    0.0975    -8.251  Major   \n",
       "191942       165000   0.419          0.000000   C    0.0981   -10.720  Major   \n",
       "191943       284733   0.729          0.000000   C    0.0700    -2.990  Major   \n",
       "\n",
       "        speechiness    tempo time_signature  valence  \n",
       "191939       0.0322  119.930            4/4    0.331  \n",
       "191940       0.0307  129.380            4/4    0.832  \n",
       "191941       0.0285  135.109            4/4    0.285  \n",
       "191942       0.0346  104.564            4/4    0.673  \n",
       "191943       0.3260  117.932            4/4    0.512  "
      ]
     },
     "execution_count": 7,
     "metadata": {},
     "output_type": "execute_result"
    }
   ],
   "source": [
    "soul = data.loc[data['genre']=='Soul']\n",
    "soul.head()"
   ]
  },
  {
   "cell_type": "code",
   "execution_count": 8,
   "metadata": {},
   "outputs": [
    {
     "data": {
      "text/html": [
       "<div>\n",
       "<style scoped>\n",
       "    .dataframe tbody tr th:only-of-type {\n",
       "        vertical-align: middle;\n",
       "    }\n",
       "\n",
       "    .dataframe tbody tr th {\n",
       "        vertical-align: top;\n",
       "    }\n",
       "\n",
       "    .dataframe thead th {\n",
       "        text-align: right;\n",
       "    }\n",
       "</style>\n",
       "<table border=\"1\" class=\"dataframe\">\n",
       "  <thead>\n",
       "    <tr style=\"text-align: right;\">\n",
       "      <th></th>\n",
       "      <th>genre</th>\n",
       "      <th>artist_name</th>\n",
       "      <th>track_name</th>\n",
       "      <th>track_id</th>\n",
       "      <th>popularity</th>\n",
       "      <th>acousticness</th>\n",
       "      <th>danceability</th>\n",
       "      <th>duration_ms</th>\n",
       "      <th>energy</th>\n",
       "      <th>instrumentalness</th>\n",
       "      <th>key</th>\n",
       "      <th>liveness</th>\n",
       "      <th>loudness</th>\n",
       "      <th>mode</th>\n",
       "      <th>speechiness</th>\n",
       "      <th>tempo</th>\n",
       "      <th>time_signature</th>\n",
       "      <th>valence</th>\n",
       "    </tr>\n",
       "  </thead>\n",
       "  <tbody>\n",
       "    <tr>\n",
       "      <th>152988</th>\n",
       "      <td>Rock</td>\n",
       "      <td>Queen</td>\n",
       "      <td>We Are The Champions</td>\n",
       "      <td>4kzvAGJirpZ9ethvKZdJtg</td>\n",
       "      <td>50</td>\n",
       "      <td>0.230000</td>\n",
       "      <td>0.460</td>\n",
       "      <td>180667</td>\n",
       "      <td>0.482</td>\n",
       "      <td>0.000000</td>\n",
       "      <td>A#</td>\n",
       "      <td>0.1010</td>\n",
       "      <td>-7.413</td>\n",
       "      <td>Major</td>\n",
       "      <td>0.0285</td>\n",
       "      <td>94.975</td>\n",
       "      <td>3/4</td>\n",
       "      <td>0.202</td>\n",
       "    </tr>\n",
       "    <tr>\n",
       "      <th>152989</th>\n",
       "      <td>Rock</td>\n",
       "      <td>Death Cab for Cutie</td>\n",
       "      <td>Black Sun</td>\n",
       "      <td>59FC22eN2Syt9bbv2d6393</td>\n",
       "      <td>55</td>\n",
       "      <td>0.170000</td>\n",
       "      <td>0.608</td>\n",
       "      <td>289160</td>\n",
       "      <td>0.642</td>\n",
       "      <td>0.066700</td>\n",
       "      <td>D</td>\n",
       "      <td>0.1660</td>\n",
       "      <td>-7.978</td>\n",
       "      <td>Major</td>\n",
       "      <td>0.0251</td>\n",
       "      <td>87.703</td>\n",
       "      <td>4/4</td>\n",
       "      <td>0.608</td>\n",
       "    </tr>\n",
       "    <tr>\n",
       "      <th>152990</th>\n",
       "      <td>Rock</td>\n",
       "      <td>Demon Hunter</td>\n",
       "      <td>On My Side</td>\n",
       "      <td>3zlqFHiuLAUra9MsJ85l4v</td>\n",
       "      <td>59</td>\n",
       "      <td>0.000005</td>\n",
       "      <td>0.480</td>\n",
       "      <td>244387</td>\n",
       "      <td>0.953</td>\n",
       "      <td>0.066700</td>\n",
       "      <td>C#</td>\n",
       "      <td>0.0805</td>\n",
       "      <td>-5.061</td>\n",
       "      <td>Minor</td>\n",
       "      <td>0.0889</td>\n",
       "      <td>95.016</td>\n",
       "      <td>4/4</td>\n",
       "      <td>0.268</td>\n",
       "    </tr>\n",
       "    <tr>\n",
       "      <th>152991</th>\n",
       "      <td>Rock</td>\n",
       "      <td>Carole King</td>\n",
       "      <td>Bitter With The Sweet</td>\n",
       "      <td>6bMrfP9V5s5fgL3Z02tcES</td>\n",
       "      <td>64</td>\n",
       "      <td>0.807000</td>\n",
       "      <td>0.691</td>\n",
       "      <td>148040</td>\n",
       "      <td>0.430</td>\n",
       "      <td>0.000508</td>\n",
       "      <td>G#</td>\n",
       "      <td>0.1150</td>\n",
       "      <td>-13.252</td>\n",
       "      <td>Major</td>\n",
       "      <td>0.0576</td>\n",
       "      <td>99.032</td>\n",
       "      <td>4/4</td>\n",
       "      <td>0.690</td>\n",
       "    </tr>\n",
       "    <tr>\n",
       "      <th>152992</th>\n",
       "      <td>Rock</td>\n",
       "      <td>Tenth Avenue North</td>\n",
       "      <td>Worn</td>\n",
       "      <td>6jAAYLKxXPyeEoddXu6Gf7</td>\n",
       "      <td>54</td>\n",
       "      <td>0.384000</td>\n",
       "      <td>0.510</td>\n",
       "      <td>244120</td>\n",
       "      <td>0.420</td>\n",
       "      <td>0.000000</td>\n",
       "      <td>F#</td>\n",
       "      <td>0.1020</td>\n",
       "      <td>-8.014</td>\n",
       "      <td>Major</td>\n",
       "      <td>0.0312</td>\n",
       "      <td>125.898</td>\n",
       "      <td>4/4</td>\n",
       "      <td>0.190</td>\n",
       "    </tr>\n",
       "  </tbody>\n",
       "</table>\n",
       "</div>"
      ],
      "text/plain": [
       "       genre          artist_name             track_name  \\\n",
       "152988  Rock                Queen   We Are The Champions   \n",
       "152989  Rock  Death Cab for Cutie              Black Sun   \n",
       "152990  Rock         Demon Hunter             On My Side   \n",
       "152991  Rock          Carole King  Bitter With The Sweet   \n",
       "152992  Rock   Tenth Avenue North                   Worn   \n",
       "\n",
       "                      track_id  popularity  acousticness  danceability  \\\n",
       "152988  4kzvAGJirpZ9ethvKZdJtg          50      0.230000         0.460   \n",
       "152989  59FC22eN2Syt9bbv2d6393          55      0.170000         0.608   \n",
       "152990  3zlqFHiuLAUra9MsJ85l4v          59      0.000005         0.480   \n",
       "152991  6bMrfP9V5s5fgL3Z02tcES          64      0.807000         0.691   \n",
       "152992  6jAAYLKxXPyeEoddXu6Gf7          54      0.384000         0.510   \n",
       "\n",
       "        duration_ms  energy  instrumentalness key  liveness  loudness   mode  \\\n",
       "152988       180667   0.482          0.000000  A#    0.1010    -7.413  Major   \n",
       "152989       289160   0.642          0.066700   D    0.1660    -7.978  Major   \n",
       "152990       244387   0.953          0.066700  C#    0.0805    -5.061  Minor   \n",
       "152991       148040   0.430          0.000508  G#    0.1150   -13.252  Major   \n",
       "152992       244120   0.420          0.000000  F#    0.1020    -8.014  Major   \n",
       "\n",
       "        speechiness    tempo time_signature  valence  \n",
       "152988       0.0285   94.975            3/4    0.202  \n",
       "152989       0.0251   87.703            4/4    0.608  \n",
       "152990       0.0889   95.016            4/4    0.268  \n",
       "152991       0.0576   99.032            4/4    0.690  \n",
       "152992       0.0312  125.898            4/4    0.190  "
      ]
     },
     "execution_count": 8,
     "metadata": {},
     "output_type": "execute_result"
    }
   ],
   "source": [
    "rock = data.loc[data['genre']=='Rock']\n",
    "rock.head()"
   ]
  },
  {
   "cell_type": "code",
   "execution_count": 9,
   "metadata": {},
   "outputs": [
    {
     "data": {
      "text/html": [
       "<div>\n",
       "<style scoped>\n",
       "    .dataframe tbody tr th:only-of-type {\n",
       "        vertical-align: middle;\n",
       "    }\n",
       "\n",
       "    .dataframe tbody tr th {\n",
       "        vertical-align: top;\n",
       "    }\n",
       "\n",
       "    .dataframe thead th {\n",
       "        text-align: right;\n",
       "    }\n",
       "</style>\n",
       "<table border=\"1\" class=\"dataframe\">\n",
       "  <thead>\n",
       "    <tr style=\"text-align: right;\">\n",
       "      <th></th>\n",
       "      <th>genre</th>\n",
       "      <th>artist_name</th>\n",
       "      <th>track_name</th>\n",
       "      <th>track_id</th>\n",
       "      <th>popularity</th>\n",
       "      <th>acousticness</th>\n",
       "      <th>danceability</th>\n",
       "      <th>duration_ms</th>\n",
       "      <th>energy</th>\n",
       "      <th>instrumentalness</th>\n",
       "      <th>key</th>\n",
       "      <th>liveness</th>\n",
       "      <th>loudness</th>\n",
       "      <th>mode</th>\n",
       "      <th>speechiness</th>\n",
       "      <th>tempo</th>\n",
       "      <th>time_signature</th>\n",
       "      <th>valence</th>\n",
       "    </tr>\n",
       "  </thead>\n",
       "  <tbody>\n",
       "    <tr>\n",
       "      <th>107802</th>\n",
       "      <td>Pop</td>\n",
       "      <td>Ariana Grande</td>\n",
       "      <td>break up with your girlfriend, i'm bored</td>\n",
       "      <td>4kV4N9D1iKVxx1KLvtTpjS</td>\n",
       "      <td>99</td>\n",
       "      <td>0.0421</td>\n",
       "      <td>0.726</td>\n",
       "      <td>190440</td>\n",
       "      <td>0.554</td>\n",
       "      <td>0.000000</td>\n",
       "      <td>F</td>\n",
       "      <td>0.1060</td>\n",
       "      <td>-5.290</td>\n",
       "      <td>Minor</td>\n",
       "      <td>0.0917</td>\n",
       "      <td>169.999</td>\n",
       "      <td>4/4</td>\n",
       "      <td>0.335</td>\n",
       "    </tr>\n",
       "    <tr>\n",
       "      <th>107803</th>\n",
       "      <td>Pop</td>\n",
       "      <td>Post Malone</td>\n",
       "      <td>Wow.</td>\n",
       "      <td>6MWtB6iiXyIwun0YzU6DFP</td>\n",
       "      <td>99</td>\n",
       "      <td>0.1630</td>\n",
       "      <td>0.833</td>\n",
       "      <td>149520</td>\n",
       "      <td>0.539</td>\n",
       "      <td>0.000002</td>\n",
       "      <td>B</td>\n",
       "      <td>0.1010</td>\n",
       "      <td>-7.399</td>\n",
       "      <td>Minor</td>\n",
       "      <td>0.1780</td>\n",
       "      <td>99.947</td>\n",
       "      <td>4/4</td>\n",
       "      <td>0.385</td>\n",
       "    </tr>\n",
       "    <tr>\n",
       "      <th>107804</th>\n",
       "      <td>Pop</td>\n",
       "      <td>Ariana Grande</td>\n",
       "      <td>7 rings</td>\n",
       "      <td>14msK75pk3pA33pzPVNtBF</td>\n",
       "      <td>100</td>\n",
       "      <td>0.5780</td>\n",
       "      <td>0.725</td>\n",
       "      <td>178640</td>\n",
       "      <td>0.321</td>\n",
       "      <td>0.000000</td>\n",
       "      <td>C#</td>\n",
       "      <td>0.0884</td>\n",
       "      <td>-10.744</td>\n",
       "      <td>Minor</td>\n",
       "      <td>0.3230</td>\n",
       "      <td>70.142</td>\n",
       "      <td>4/4</td>\n",
       "      <td>0.319</td>\n",
       "    </tr>\n",
       "    <tr>\n",
       "      <th>107805</th>\n",
       "      <td>Pop</td>\n",
       "      <td>J. Cole</td>\n",
       "      <td>MIDDLE CHILD</td>\n",
       "      <td>2JvzF1RMd7lE3KmFlsyZD8</td>\n",
       "      <td>96</td>\n",
       "      <td>0.1490</td>\n",
       "      <td>0.837</td>\n",
       "      <td>213594</td>\n",
       "      <td>0.364</td>\n",
       "      <td>0.000000</td>\n",
       "      <td>G#</td>\n",
       "      <td>0.2710</td>\n",
       "      <td>-11.713</td>\n",
       "      <td>Major</td>\n",
       "      <td>0.2760</td>\n",
       "      <td>123.984</td>\n",
       "      <td>4/4</td>\n",
       "      <td>0.463</td>\n",
       "    </tr>\n",
       "    <tr>\n",
       "      <th>107806</th>\n",
       "      <td>Pop</td>\n",
       "      <td>Post Malone</td>\n",
       "      <td>Sunflower - Spider-Man: Into the Spider-Verse</td>\n",
       "      <td>3KkXRkHbMCARz0aVfEt68P</td>\n",
       "      <td>97</td>\n",
       "      <td>0.5560</td>\n",
       "      <td>0.760</td>\n",
       "      <td>158040</td>\n",
       "      <td>0.479</td>\n",
       "      <td>0.000000</td>\n",
       "      <td>D</td>\n",
       "      <td>0.0703</td>\n",
       "      <td>-5.574</td>\n",
       "      <td>Major</td>\n",
       "      <td>0.0466</td>\n",
       "      <td>89.911</td>\n",
       "      <td>4/4</td>\n",
       "      <td>0.913</td>\n",
       "    </tr>\n",
       "  </tbody>\n",
       "</table>\n",
       "</div>"
      ],
      "text/plain": [
       "       genre    artist_name                                     track_name  \\\n",
       "107802   Pop  Ariana Grande       break up with your girlfriend, i'm bored   \n",
       "107803   Pop    Post Malone                                           Wow.   \n",
       "107804   Pop  Ariana Grande                                        7 rings   \n",
       "107805   Pop        J. Cole                                   MIDDLE CHILD   \n",
       "107806   Pop    Post Malone  Sunflower - Spider-Man: Into the Spider-Verse   \n",
       "\n",
       "                      track_id  popularity  acousticness  danceability  \\\n",
       "107802  4kV4N9D1iKVxx1KLvtTpjS          99        0.0421         0.726   \n",
       "107803  6MWtB6iiXyIwun0YzU6DFP          99        0.1630         0.833   \n",
       "107804  14msK75pk3pA33pzPVNtBF         100        0.5780         0.725   \n",
       "107805  2JvzF1RMd7lE3KmFlsyZD8          96        0.1490         0.837   \n",
       "107806  3KkXRkHbMCARz0aVfEt68P          97        0.5560         0.760   \n",
       "\n",
       "        duration_ms  energy  instrumentalness key  liveness  loudness   mode  \\\n",
       "107802       190440   0.554          0.000000   F    0.1060    -5.290  Minor   \n",
       "107803       149520   0.539          0.000002   B    0.1010    -7.399  Minor   \n",
       "107804       178640   0.321          0.000000  C#    0.0884   -10.744  Minor   \n",
       "107805       213594   0.364          0.000000  G#    0.2710   -11.713  Major   \n",
       "107806       158040   0.479          0.000000   D    0.0703    -5.574  Major   \n",
       "\n",
       "        speechiness    tempo time_signature  valence  \n",
       "107802       0.0917  169.999            4/4    0.335  \n",
       "107803       0.1780   99.947            4/4    0.385  \n",
       "107804       0.3230   70.142            4/4    0.319  \n",
       "107805       0.2760  123.984            4/4    0.463  \n",
       "107806       0.0466   89.911            4/4    0.913  "
      ]
     },
     "execution_count": 9,
     "metadata": {},
     "output_type": "execute_result"
    }
   ],
   "source": [
    "pop = data.loc[data['genre']=='Pop']\n",
    "pop.head()"
   ]
  },
  {
   "cell_type": "code",
   "execution_count": 10,
   "metadata": {},
   "outputs": [
    {
     "data": {
      "text/plain": [
       "False"
      ]
     },
     "execution_count": 10,
     "metadata": {},
     "output_type": "execute_result"
    }
   ],
   "source": [
    "joint = soul.append([rock,pop])\n",
    "joint.duplicated().any()"
   ]
  },
  {
   "cell_type": "code",
   "execution_count": 11,
   "metadata": {},
   "outputs": [
    {
     "data": {
      "text/plain": [
       "<matplotlib.axes._subplots.AxesSubplot at 0x1d3bb83ab70>"
      ]
     },
     "execution_count": 11,
     "metadata": {},
     "output_type": "execute_result"
    },
    {
     "data": {
      "image/png": "[encoded data removed]",
      "text/plain": [
       "<Figure size 432x288 with 1 Axes>"
      ]
     },
     "metadata": {
      "needs_background": "light"
     },
     "output_type": "display_data"
    }
   ],
   "source": [
    "sns.countplot(x=joint['key'],hue=joint['genre'])"
   ]
  },
  {
   "cell_type": "code",
   "execution_count": 12,
   "metadata": {},
   "outputs": [
    {
     "data": {
      "text/plain": [
       "<matplotlib.axes._subplots.AxesSubplot at 0x1d3bbd9c390>"
      ]
     },
     "execution_count": 12,
     "metadata": {},
     "output_type": "execute_result"
    },
    {
     "data": {
      "image/png": "[encoded data removed]",
      "text/plain": [
       "<Figure size 432x288 with 1 Axes>"
      ]
     },
     "metadata": {
      "needs_background": "light"
     },
     "output_type": "display_data"
    }
   ],
   "source": [
    "sns.countplot(x=joint['mode'],hue=joint['genre'])"
   ]
  },
  {
   "cell_type": "code",
   "execution_count": 13,
   "metadata": {},
   "outputs": [
    {
     "data": {
      "text/html": [
       "<div>\n",
       "<style scoped>\n",
       "    .dataframe tbody tr th:only-of-type {\n",
       "        vertical-align: middle;\n",
       "    }\n",
       "\n",
       "    .dataframe tbody tr th {\n",
       "        vertical-align: top;\n",
       "    }\n",
       "\n",
       "    .dataframe thead th {\n",
       "        text-align: right;\n",
       "    }\n",
       "</style>\n",
       "<table border=\"1\" class=\"dataframe\">\n",
       "  <thead>\n",
       "    <tr style=\"text-align: right;\">\n",
       "      <th>key</th>\n",
       "      <th>A</th>\n",
       "      <th>A#</th>\n",
       "      <th>B</th>\n",
       "      <th>C</th>\n",
       "      <th>C#</th>\n",
       "      <th>D</th>\n",
       "      <th>D#</th>\n",
       "      <th>E</th>\n",
       "      <th>F</th>\n",
       "      <th>F#</th>\n",
       "      <th>G</th>\n",
       "      <th>G#</th>\n",
       "    </tr>\n",
       "    <tr>\n",
       "      <th>genre</th>\n",
       "      <th></th>\n",
       "      <th></th>\n",
       "      <th></th>\n",
       "      <th></th>\n",
       "      <th></th>\n",
       "      <th></th>\n",
       "      <th></th>\n",
       "      <th></th>\n",
       "      <th></th>\n",
       "      <th></th>\n",
       "      <th></th>\n",
       "      <th></th>\n",
       "    </tr>\n",
       "  </thead>\n",
       "  <tbody>\n",
       "    <tr>\n",
       "      <th>Pop</th>\n",
       "      <td>738</td>\n",
       "      <td>658</td>\n",
       "      <td>802</td>\n",
       "      <td>1067</td>\n",
       "      <td>1205</td>\n",
       "      <td>850</td>\n",
       "      <td>292</td>\n",
       "      <td>610</td>\n",
       "      <td>831</td>\n",
       "      <td>699</td>\n",
       "      <td>887</td>\n",
       "      <td>747</td>\n",
       "    </tr>\n",
       "    <tr>\n",
       "      <th>Rock</th>\n",
       "      <td>1081</td>\n",
       "      <td>455</td>\n",
       "      <td>711</td>\n",
       "      <td>1183</td>\n",
       "      <td>716</td>\n",
       "      <td>1157</td>\n",
       "      <td>252</td>\n",
       "      <td>858</td>\n",
       "      <td>697</td>\n",
       "      <td>586</td>\n",
       "      <td>1089</td>\n",
       "      <td>487</td>\n",
       "    </tr>\n",
       "    <tr>\n",
       "      <th>Soul</th>\n",
       "      <td>829</td>\n",
       "      <td>678</td>\n",
       "      <td>736</td>\n",
       "      <td>1104</td>\n",
       "      <td>847</td>\n",
       "      <td>736</td>\n",
       "      <td>332</td>\n",
       "      <td>601</td>\n",
       "      <td>906</td>\n",
       "      <td>694</td>\n",
       "      <td>905</td>\n",
       "      <td>721</td>\n",
       "    </tr>\n",
       "  </tbody>\n",
       "</table>\n",
       "</div>"
      ],
      "text/plain": [
       "key       A   A#    B     C    C#     D   D#    E    F   F#     G   G#\n",
       "genre                                                                 \n",
       "Pop     738  658  802  1067  1205   850  292  610  831  699   887  747\n",
       "Rock   1081  455  711  1183   716  1157  252  858  697  586  1089  487\n",
       "Soul    829  678  736  1104   847   736  332  601  906  694   905  721"
      ]
     },
     "execution_count": 13,
     "metadata": {},
     "output_type": "execute_result"
    }
   ],
   "source": [
    "key = pd.crosstab(joint['genre'],joint['key'])\n",
    "key"
   ]
  },
  {
   "cell_type": "code",
   "execution_count": 14,
   "metadata": {},
   "outputs": [
    {
     "name": "stdout",
     "output_type": "stream",
     "text": [
      "The chi-squared value is: 572.6155045580972\n",
      "The p-value is: 4.8092203786223304e-107\n"
     ]
    }
   ],
   "source": [
    "chi2, p, dof, expected = stat.chi2_contingency(key)\n",
    "print('The chi-squared value is:',chi2)\n",
    "print('The p-value is:',p)\n"
   ]
  },
  {
   "cell_type": "code",
   "execution_count": 15,
   "metadata": {},
   "outputs": [
    {
     "data": {
      "text/html": [
       "<div>\n",
       "<style scoped>\n",
       "    .dataframe tbody tr th:only-of-type {\n",
       "        vertical-align: middle;\n",
       "    }\n",
       "\n",
       "    .dataframe tbody tr th {\n",
       "        vertical-align: top;\n",
       "    }\n",
       "\n",
       "    .dataframe thead th {\n",
       "        text-align: right;\n",
       "    }\n",
       "</style>\n",
       "<table border=\"1\" class=\"dataframe\">\n",
       "  <thead>\n",
       "    <tr style=\"text-align: right;\">\n",
       "      <th>mode</th>\n",
       "      <th>Major</th>\n",
       "      <th>Minor</th>\n",
       "    </tr>\n",
       "    <tr>\n",
       "      <th>genre</th>\n",
       "      <th></th>\n",
       "      <th></th>\n",
       "    </tr>\n",
       "  </thead>\n",
       "  <tbody>\n",
       "    <tr>\n",
       "      <th>Pop</th>\n",
       "      <td>5843</td>\n",
       "      <td>3543</td>\n",
       "    </tr>\n",
       "    <tr>\n",
       "      <th>Rock</th>\n",
       "      <td>6878</td>\n",
       "      <td>2394</td>\n",
       "    </tr>\n",
       "    <tr>\n",
       "      <th>Soul</th>\n",
       "      <td>5107</td>\n",
       "      <td>3982</td>\n",
       "    </tr>\n",
       "  </tbody>\n",
       "</table>\n",
       "</div>"
      ],
      "text/plain": [
       "mode   Major  Minor\n",
       "genre              \n",
       "Pop     5843   3543\n",
       "Rock    6878   2394\n",
       "Soul    5107   3982"
      ]
     },
     "execution_count": 15,
     "metadata": {},
     "output_type": "execute_result"
    }
   ],
   "source": [
    "mode = pd.crosstab(joint['genre'],joint['mode'])\n",
    "mode"
   ]
  },
  {
   "cell_type": "code",
   "execution_count": 16,
   "metadata": {},
   "outputs": [
    {
     "name": "stdout",
     "output_type": "stream",
     "text": [
      "The chi-squared value is: 671.5250638816794\n",
      "The p-value is: 1.5142066467527798e-146\n"
     ]
    }
   ],
   "source": [
    "chi2, p, dof, expected = stat.chi2_contingency(mode)\n",
    "print('The chi-squared value is:',chi2)\n",
    "print('The p-value is:',p)"
   ]
  },
  {
   "cell_type": "code",
   "execution_count": 17,
   "metadata": {},
   "outputs": [
    {
     "data": {
      "text/html": [
       "<div>\n",
       "<style scoped>\n",
       "    .dataframe tbody tr th:only-of-type {\n",
       "        vertical-align: middle;\n",
       "    }\n",
       "\n",
       "    .dataframe tbody tr th {\n",
       "        vertical-align: top;\n",
       "    }\n",
       "\n",
       "    .dataframe thead th {\n",
       "        text-align: right;\n",
       "    }\n",
       "</style>\n",
       "<table border=\"1\" class=\"dataframe\">\n",
       "  <thead>\n",
       "    <tr style=\"text-align: right;\">\n",
       "      <th>mode</th>\n",
       "      <th>Major</th>\n",
       "      <th>Minor</th>\n",
       "    </tr>\n",
       "    <tr>\n",
       "      <th>key</th>\n",
       "      <th></th>\n",
       "      <th></th>\n",
       "    </tr>\n",
       "  </thead>\n",
       "  <tbody>\n",
       "    <tr>\n",
       "      <th>A</th>\n",
       "      <td>1655</td>\n",
       "      <td>993</td>\n",
       "    </tr>\n",
       "    <tr>\n",
       "      <th>A#</th>\n",
       "      <td>924</td>\n",
       "      <td>867</td>\n",
       "    </tr>\n",
       "    <tr>\n",
       "      <th>B</th>\n",
       "      <td>1031</td>\n",
       "      <td>1218</td>\n",
       "    </tr>\n",
       "    <tr>\n",
       "      <th>C</th>\n",
       "      <td>2676</td>\n",
       "      <td>678</td>\n",
       "    </tr>\n",
       "    <tr>\n",
       "      <th>C#</th>\n",
       "      <td>1798</td>\n",
       "      <td>970</td>\n",
       "    </tr>\n",
       "    <tr>\n",
       "      <th>D</th>\n",
       "      <td>2169</td>\n",
       "      <td>574</td>\n",
       "    </tr>\n",
       "    <tr>\n",
       "      <th>D#</th>\n",
       "      <td>559</td>\n",
       "      <td>317</td>\n",
       "    </tr>\n",
       "    <tr>\n",
       "      <th>E</th>\n",
       "      <td>1070</td>\n",
       "      <td>999</td>\n",
       "    </tr>\n",
       "    <tr>\n",
       "      <th>F</th>\n",
       "      <td>1331</td>\n",
       "      <td>1103</td>\n",
       "    </tr>\n",
       "    <tr>\n",
       "      <th>F#</th>\n",
       "      <td>1046</td>\n",
       "      <td>933</td>\n",
       "    </tr>\n",
       "    <tr>\n",
       "      <th>G</th>\n",
       "      <td>2159</td>\n",
       "      <td>722</td>\n",
       "    </tr>\n",
       "    <tr>\n",
       "      <th>G#</th>\n",
       "      <td>1410</td>\n",
       "      <td>545</td>\n",
       "    </tr>\n",
       "  </tbody>\n",
       "</table>\n",
       "</div>"
      ],
      "text/plain": [
       "mode  Major  Minor\n",
       "key               \n",
       "A      1655    993\n",
       "A#      924    867\n",
       "B      1031   1218\n",
       "C      2676    678\n",
       "C#     1798    970\n",
       "D      2169    574\n",
       "D#      559    317\n",
       "E      1070    999\n",
       "F      1331   1103\n",
       "F#     1046    933\n",
       "G      2159    722\n",
       "G#     1410    545"
      ]
     },
     "execution_count": 17,
     "metadata": {},
     "output_type": "execute_result"
    }
   ],
   "source": [
    "km = pd.crosstab(joint['key'],joint['mode'])\n",
    "km"
   ]
  },
  {
   "cell_type": "code",
   "execution_count": 18,
   "metadata": {},
   "outputs": [
    {
     "name": "stdout",
     "output_type": "stream",
     "text": [
      "The chi-squared value is: 1622.2278331840193\n",
      "The p-value is: 0.0\n"
     ]
    }
   ],
   "source": [
    "chi2, p, dof, expected = stat.chi2_contingency(km)\n",
    "print('The chi-squared value is:',chi2)\n",
    "print('The p-value is:',p)"
   ]
  },
  {
   "cell_type": "code",
   "execution_count": 19,
   "metadata": {},
   "outputs": [],
   "source": [
    "dig = joint.replace({'Soul':0,\n",
    "                     'Rock':1,\n",
    "                     'Pop':2\n",
    "})"
   ]
  },
  {
   "cell_type": "code",
   "execution_count": 20,
   "metadata": {},
   "outputs": [
    {
     "data": {
      "text/plain": [
       "<matplotlib.axes._subplots.AxesSubplot at 0x1d3bcc5f8d0>"
      ]
     },
     "execution_count": 20,
     "metadata": {},
     "output_type": "execute_result"
    },
    {
     "data": {
      "image/png": "[encoded data removed]",
      "text/plain": [
       "<Figure size 1080x288 with 2 Axes>"
      ]
     },
     "metadata": {
      "needs_background": "light"
     },
     "output_type": "display_data"
    }
   ],
   "source": [
    "plt.figure(figsize=(15,4))\n",
    "sns.heatmap(dig.corr(),annot=True)"
   ]
  },
  {
   "cell_type": "code",
   "execution_count": 21,
   "metadata": {},
   "outputs": [
    {
     "data": {
      "text/plain": [
       "<matplotlib.axes._subplots.AxesSubplot at 0x1d3bcd2a320>"
      ]
     },
     "execution_count": 21,
     "metadata": {},
     "output_type": "execute_result"
    },
    {
     "data": {
      "image/png": "[encoded data removed]",
      "text/plain": [
       "<Figure size 1080x288 with 3 Axes>"
      ]
     },
     "metadata": {
      "needs_background": "light"
     },
     "output_type": "display_data"
    }
   ],
   "source": [
    "plt.figure(figsize=(15,4))\n",
    "plt.subplot(131)\n",
    "sns.boxplot(x=joint['genre'],y=joint['popularity'])\n",
    "plt.subplot(132)\n",
    "sns.boxplot(x=joint['genre'],y=joint['energy'])\n",
    "plt.subplot(133)\n",
    "sns.boxplot(x=joint['genre'],y=joint['loudness'])"
   ]
  },
  {
   "cell_type": "code",
   "execution_count": 22,
   "metadata": {},
   "outputs": [
    {
     "name": "stdout",
     "output_type": "stream",
     "text": [
      "The F-value is: 14062.274715942513\n",
      "The p-value is: 0.0\n"
     ]
    }
   ],
   "source": [
    "statistic, pvalue = stat.f_oneway(soul['popularity'],rock['popularity'],pop['popularity'])\n",
    "print('The F-value is:',statistic)\n",
    "print('The p-value is:',pvalue)"
   ]
  },
  {
   "cell_type": "code",
   "execution_count": 23,
   "metadata": {},
   "outputs": [
    {
     "name": "stdout",
     "output_type": "stream",
     "text": [
      "The F-value is: 1543.2277506209987\n",
      "The p-value is: 0.0\n"
     ]
    }
   ],
   "source": [
    "statistic, pvalue = stat.f_oneway(soul['energy'],rock['energy'],pop['energy'])\n",
    "print('The F-value is:',statistic)\n",
    "print('The p-value is:',pvalue)"
   ]
  },
  {
   "cell_type": "code",
   "execution_count": 24,
   "metadata": {},
   "outputs": [
    {
     "name": "stdout",
     "output_type": "stream",
     "text": [
      "The F-value is: 1387.0632892029012\n",
      "The p-value is: 0.0\n"
     ]
    }
   ],
   "source": [
    "statistic, pvalue = stat.f_oneway(soul['loudness'],rock['loudness'],pop['loudness'])\n",
    "print('The F-value is:',statistic)\n",
    "print('The p-value is:',pvalue)"
   ]
  },
  {
   "cell_type": "code",
   "execution_count": 25,
   "metadata": {},
   "outputs": [
    {
     "data": {
      "text/plain": [
       "<matplotlib.axes._subplots.AxesSubplot at 0x1d3bce22160>"
      ]
     },
     "execution_count": 25,
     "metadata": {},
     "output_type": "execute_result"
    },
    {
     "data": {
      "image/png": "[encoded data removed]",
      "text/plain": [
       "<Figure size 432x288 with 1 Axes>"
      ]
     },
     "metadata": {
      "needs_background": "light"
     },
     "output_type": "display_data"
    }
   ],
   "source": [
    "sns.kdeplot(soul['tempo'],shade=True,label='Soul')\n",
    "sns.kdeplot(rock['tempo'],shade=True,label='Rock')\n",
    "sns.kdeplot(pop['tempo'],shade=True,label='Pop')"
   ]
  },
  {
   "cell_type": "code",
   "execution_count": 26,
   "metadata": {},
   "outputs": [
    {
     "data": {
      "text/plain": [
       "<matplotlib.axes._subplots.AxesSubplot at 0x1d3bd488c88>"
      ]
     },
     "execution_count": 26,
     "metadata": {},
     "output_type": "execute_result"
    },
    {
     "data": {
      "image/png": "[encoded data removed]",
      "text/plain": [
       "<Figure size 432x288 with 1 Axes>"
      ]
     },
     "metadata": {
      "needs_background": "light"
     },
     "output_type": "display_data"
    }
   ],
   "source": [
    "sns.kdeplot(soul['danceability'],shade=True,label='Soul')\n",
    "sns.kdeplot(rock['danceability'],shade=True,label='Rock')\n",
    "sns.kdeplot(pop['danceability'],shade=True,label='Pop')"
   ]
  },
  {
   "cell_type": "code",
   "execution_count": 27,
   "metadata": {},
   "outputs": [
    {
     "data": {
      "text/plain": [
       "<matplotlib.axes._subplots.AxesSubplot at 0x1d3bd4d9b00>"
      ]
     },
     "execution_count": 27,
     "metadata": {},
     "output_type": "execute_result"
    },
    {
     "data": {
      "image/png": "[encoded data removed]",
      "text/plain": [
       "<Figure size 432x288 with 1 Axes>"
      ]
     },
     "metadata": {
      "needs_background": "light"
     },
     "output_type": "display_data"
    }
   ],
   "source": [
    "sns.kdeplot(soul['duration_ms'],shade=True,label='Soul')\n",
    "sns.kdeplot(rock['duration_ms'],shade=True,label='Rock')\n",
    "sns.kdeplot(pop['duration_ms'],shade=True,label='Pop')"
   ]
  },
  {
   "cell_type": "code",
   "execution_count": 28,
   "metadata": {},
   "outputs": [
    {
     "data": {
      "text/plain": [
       "<matplotlib.axes._subplots.AxesSubplot at 0x1d3bd304e48>"
      ]
     },
     "execution_count": 28,
     "metadata": {},
     "output_type": "execute_result"
    },
    {
     "data": {
      "image/png": "[encoded data removed]",
      "text/plain": [
       "<Figure size 432x288 with 1 Axes>"
      ]
     },
     "metadata": {
      "needs_background": "light"
     },
     "output_type": "display_data"
    }
   ],
   "source": [
    "sns.lineplot(x=joint['energy'],y=joint['loudness'],hue=joint['genre'])"
   ]
  },
  {
   "cell_type": "code",
   "execution_count": 29,
   "metadata": {},
   "outputs": [
    {
     "data": {
      "text/plain": [
       "<matplotlib.axes._subplots.AxesSubplot at 0x1d3bd53a128>"
      ]
     },
     "execution_count": 29,
     "metadata": {},
     "output_type": "execute_result"
    },
    {
     "data": {
      "image/png": "[encoded data removed]",
      "text/plain": [
       "<Figure size 432x288 with 1 Axes>"
      ]
     },
     "metadata": {
      "needs_background": "light"
     },
     "output_type": "display_data"
    }
   ],
   "source": [
    "sns.lineplot(x=joint['valence'],y=joint['danceability'],hue=joint['genre'])"
   ]
  },
  {
   "cell_type": "code",
   "execution_count": 30,
   "metadata": {},
   "outputs": [],
   "source": [
    "f1 = dig[['genre','popularity','key','mode']]"
   ]
  },
  {
   "cell_type": "code",
   "execution_count": 31,
   "metadata": {},
   "outputs": [
    {
     "data": {
      "text/html": [
       "<div>\n",
       "<style scoped>\n",
       "    .dataframe tbody tr th:only-of-type {\n",
       "        vertical-align: middle;\n",
       "    }\n",
       "\n",
       "    .dataframe tbody tr th {\n",
       "        vertical-align: top;\n",
       "    }\n",
       "\n",
       "    .dataframe thead th {\n",
       "        text-align: right;\n",
       "    }\n",
       "</style>\n",
       "<table border=\"1\" class=\"dataframe\">\n",
       "  <thead>\n",
       "    <tr style=\"text-align: right;\">\n",
       "      <th></th>\n",
       "      <th>genre</th>\n",
       "      <th>popularity</th>\n",
       "      <th>key</th>\n",
       "      <th>mode</th>\n",
       "    </tr>\n",
       "  </thead>\n",
       "  <tbody>\n",
       "    <tr>\n",
       "      <th>191939</th>\n",
       "      <td>0</td>\n",
       "      <td>85</td>\n",
       "      <td>8</td>\n",
       "      <td>0</td>\n",
       "    </tr>\n",
       "    <tr>\n",
       "      <th>191940</th>\n",
       "      <td>0</td>\n",
       "      <td>79</td>\n",
       "      <td>11</td>\n",
       "      <td>1</td>\n",
       "    </tr>\n",
       "    <tr>\n",
       "      <th>191941</th>\n",
       "      <td>0</td>\n",
       "      <td>79</td>\n",
       "      <td>9</td>\n",
       "      <td>0</td>\n",
       "    </tr>\n",
       "    <tr>\n",
       "      <th>191942</th>\n",
       "      <td>0</td>\n",
       "      <td>79</td>\n",
       "      <td>0</td>\n",
       "      <td>0</td>\n",
       "    </tr>\n",
       "    <tr>\n",
       "      <th>191943</th>\n",
       "      <td>0</td>\n",
       "      <td>78</td>\n",
       "      <td>0</td>\n",
       "      <td>0</td>\n",
       "    </tr>\n",
       "  </tbody>\n",
       "</table>\n",
       "</div>"
      ],
      "text/plain": [
       "        genre  popularity  key  mode\n",
       "191939      0          85    8     0\n",
       "191940      0          79   11     1\n",
       "191941      0          79    9     0\n",
       "191942      0          79    0     0\n",
       "191943      0          78    0     0"
      ]
     },
     "execution_count": 31,
     "metadata": {},
     "output_type": "execute_result"
    }
   ],
   "source": [
    "f1 = f1.replace({'C':0,\n",
    "                 'C#':1,\n",
    "                 'D':2,\n",
    "                 'D#':3,\n",
    "                 'E':4,\n",
    "                 'F':5,\n",
    "                 'F#':6,\n",
    "                 'G':7,\n",
    "                 'G#':8,\n",
    "                 'A':9,\n",
    "                 'A#':10,\n",
    "                 'B':11,\n",
    "                 'Major':0,\n",
    "                 'Minor':1})\n",
    "f1.head()"
   ]
  },
  {
   "cell_type": "code",
   "execution_count": 32,
   "metadata": {},
   "outputs": [],
   "source": [
    "f1.to_csv('features1.csv')"
   ]
  },
  {
   "cell_type": "code",
   "execution_count": 44,
   "metadata": {},
   "outputs": [
    {
     "data": {
      "text/html": [
       "<div>\n",
       "<style scoped>\n",
       "    .dataframe tbody tr th:only-of-type {\n",
       "        vertical-align: middle;\n",
       "    }\n",
       "\n",
       "    .dataframe tbody tr th {\n",
       "        vertical-align: top;\n",
       "    }\n",
       "\n",
       "    .dataframe thead th {\n",
       "        text-align: right;\n",
       "    }\n",
       "</style>\n",
       "<table border=\"1\" class=\"dataframe\">\n",
       "  <thead>\n",
       "    <tr style=\"text-align: right;\">\n",
       "      <th></th>\n",
       "      <th>genre</th>\n",
       "      <th>popularity</th>\n",
       "      <th>key</th>\n",
       "      <th>mode</th>\n",
       "      <th>energy</th>\n",
       "      <th>loudness</th>\n",
       "      <th>danceability</th>\n",
       "      <th>valence</th>\n",
       "      <th>tempo</th>\n",
       "    </tr>\n",
       "  </thead>\n",
       "  <tbody>\n",
       "    <tr>\n",
       "      <th>191939</th>\n",
       "      <td>0</td>\n",
       "      <td>85</td>\n",
       "      <td>8</td>\n",
       "      <td>0</td>\n",
       "      <td>0.264</td>\n",
       "      <td>-7.064</td>\n",
       "      <td>0.422</td>\n",
       "      <td>0.331</td>\n",
       "      <td>119.930</td>\n",
       "    </tr>\n",
       "    <tr>\n",
       "      <th>191940</th>\n",
       "      <td>0</td>\n",
       "      <td>79</td>\n",
       "      <td>11</td>\n",
       "      <td>1</td>\n",
       "      <td>0.813</td>\n",
       "      <td>-6.115</td>\n",
       "      <td>0.620</td>\n",
       "      <td>0.832</td>\n",
       "      <td>129.380</td>\n",
       "    </tr>\n",
       "    <tr>\n",
       "      <th>191941</th>\n",
       "      <td>0</td>\n",
       "      <td>79</td>\n",
       "      <td>9</td>\n",
       "      <td>0</td>\n",
       "      <td>0.330</td>\n",
       "      <td>-8.251</td>\n",
       "      <td>0.559</td>\n",
       "      <td>0.285</td>\n",
       "      <td>135.109</td>\n",
       "    </tr>\n",
       "    <tr>\n",
       "      <th>191942</th>\n",
       "      <td>0</td>\n",
       "      <td>79</td>\n",
       "      <td>0</td>\n",
       "      <td>0</td>\n",
       "      <td>0.419</td>\n",
       "      <td>-10.720</td>\n",
       "      <td>0.579</td>\n",
       "      <td>0.673</td>\n",
       "      <td>104.564</td>\n",
       "    </tr>\n",
       "    <tr>\n",
       "      <th>191943</th>\n",
       "      <td>0</td>\n",
       "      <td>78</td>\n",
       "      <td>0</td>\n",
       "      <td>0</td>\n",
       "      <td>0.729</td>\n",
       "      <td>-2.990</td>\n",
       "      <td>0.727</td>\n",
       "      <td>0.512</td>\n",
       "      <td>117.932</td>\n",
       "    </tr>\n",
       "  </tbody>\n",
       "</table>\n",
       "</div>"
      ],
      "text/plain": [
       "        genre  popularity  key  mode  energy  loudness  danceability  valence  \\\n",
       "191939      0          85    8     0   0.264    -7.064         0.422    0.331   \n",
       "191940      0          79   11     1   0.813    -6.115         0.620    0.832   \n",
       "191941      0          79    9     0   0.330    -8.251         0.559    0.285   \n",
       "191942      0          79    0     0   0.419   -10.720         0.579    0.673   \n",
       "191943      0          78    0     0   0.729    -2.990         0.727    0.512   \n",
       "\n",
       "          tempo  \n",
       "191939  119.930  \n",
       "191940  129.380  \n",
       "191941  135.109  \n",
       "191942  104.564  \n",
       "191943  117.932  "
      ]
     },
     "execution_count": 44,
     "metadata": {},
     "output_type": "execute_result"
    }
   ],
   "source": [
    "f2 = dig[['genre','popularity','key','mode','energy','loudness','danceability','valence','tempo']]\n",
    "f2 = f2.replace({'C':0,\n",
    "                 'C#':1,\n",
    "                 'D':2,\n",
    "                 'D#':3,\n",
    "                 'E':4,\n",
    "                 'F':5,\n",
    "                 'F#':6,\n",
    "                 'G':7,\n",
    "                 'G#':8,\n",
    "                 'A':9,\n",
    "                 'A#':10,\n",
    "                 'B':11,\n",
    "                 'Major':0,\n",
    "                 'Minor':1})\n",
    "f2.head()"
   ]
  },
  {
   "cell_type": "code",
   "execution_count": 45,
   "metadata": {},
   "outputs": [],
   "source": [
    "f2.to_csv('features2.csv')"
   ]
  },
  {
   "cell_type": "code",
   "execution_count": null,
   "metadata": {},
   "outputs": [],
   "source": []
  }
 ],
 "metadata": {
  "kernelspec": {
   "display_name": "Python 3",
   "language": "python",
   "name": "python3"
  },
  "language_info": {
   "codemirror_mode": {
    "name": "ipython",
    "version": 3
   },
   "file_extension": ".py",
   "mimetype": "text/x-python",
   "name": "python",
   "nbconvert_exporter": "python",
   "pygments_lexer": "ipython3",
   "version": "3.7.3"
  }
 },
 "nbformat": 4,
 "nbformat_minor": 2
}
